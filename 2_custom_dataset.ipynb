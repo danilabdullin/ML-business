{
 "cells": [
  {
   "cell_type": "code",
   "execution_count": 59,
   "id": "84618130",
   "metadata": {},
   "outputs": [],
   "source": [
    "import numpy as np\n",
    "import os\n",
    "import SimpleITK as sitk\n",
    "import matplotlib.pyplot as plt\n",
    "import pandas as pd\n",
    "from tqdm import tqdm"
   ]
  },
  {
   "cell_type": "code",
   "execution_count": 25,
   "id": "d3ed7e81",
   "metadata": {},
   "outputs": [],
   "source": [
    "def load_dicom(directory):\n",
    "        reader = sitk.ImageSeriesReader()\n",
    "        dicom_names = reader.GetGDCMSeriesFileNames(directory)\n",
    "        reader.SetFileNames(dicom_names)\n",
    "        image_itk = reader.Execute()\n",
    "        image_zyx = sitk.GetArrayFromImage(image_itk).astype(np.int16)\n",
    "        return image_zyx"
   ]
  },
  {
   "cell_type": "code",
   "execution_count": 19,
   "id": "595a934e",
   "metadata": {},
   "outputs": [],
   "source": [
    "dataset_csv = pd.read_csv('../dataset.csv')"
   ]
  },
  {
   "cell_type": "code",
   "execution_count": 26,
   "id": "13c5c627",
   "metadata": {},
   "outputs": [
    {
     "data": {
      "text/html": [
       "<div>\n",
       "<style scoped>\n",
       "    .dataframe tbody tr th:only-of-type {\n",
       "        vertical-align: middle;\n",
       "    }\n",
       "\n",
       "    .dataframe tbody tr th {\n",
       "        vertical-align: top;\n",
       "    }\n",
       "\n",
       "    .dataframe thead th {\n",
       "        text-align: right;\n",
       "    }\n",
       "</style>\n",
       "<table border=\"1\" class=\"dataframe\">\n",
       "  <thead>\n",
       "    <tr style=\"text-align: right;\">\n",
       "      <th></th>\n",
       "      <th>folder</th>\n",
       "      <th>sclerosis</th>\n",
       "    </tr>\n",
       "  </thead>\n",
       "  <tbody>\n",
       "    <tr>\n",
       "      <th>0</th>\n",
       "      <td>1.2.643.5.1.13.13.12.2.77.8252.000000121111080...</td>\n",
       "      <td>1</td>\n",
       "    </tr>\n",
       "    <tr>\n",
       "      <th>1</th>\n",
       "      <td>1.2.643.5.1.13.13.12.2.77.8252.000414070704111...</td>\n",
       "      <td>1</td>\n",
       "    </tr>\n",
       "    <tr>\n",
       "      <th>2</th>\n",
       "      <td>1.2.643.5.1.13.13.12.2.77.8252.010015031215071...</td>\n",
       "      <td>1</td>\n",
       "    </tr>\n",
       "    <tr>\n",
       "      <th>3</th>\n",
       "      <td>1.2.643.5.1.13.13.12.2.77.8252.040311050308090...</td>\n",
       "      <td>1</td>\n",
       "    </tr>\n",
       "    <tr>\n",
       "      <th>4</th>\n",
       "      <td>1.2.643.5.1.13.13.12.2.77.8252.040808121002100...</td>\n",
       "      <td>1</td>\n",
       "    </tr>\n",
       "    <tr>\n",
       "      <th>...</th>\n",
       "      <td>...</td>\n",
       "      <td>...</td>\n",
       "    </tr>\n",
       "    <tr>\n",
       "      <th>1820</th>\n",
       "      <td>1.2.643.5.1.13.13.12.2.77.8252.101309001301050...</td>\n",
       "      <td>0</td>\n",
       "    </tr>\n",
       "    <tr>\n",
       "      <th>1821</th>\n",
       "      <td>1.2.643.5.1.13.13.12.2.77.8252.110708141500050...</td>\n",
       "      <td>0</td>\n",
       "    </tr>\n",
       "    <tr>\n",
       "      <th>1822</th>\n",
       "      <td>1.2.643.5.1.13.13.12.2.77.8252.130407091403110...</td>\n",
       "      <td>0</td>\n",
       "    </tr>\n",
       "    <tr>\n",
       "      <th>1823</th>\n",
       "      <td>1.2.643.5.1.13.13.12.2.77.8252.140301100800021...</td>\n",
       "      <td>0</td>\n",
       "    </tr>\n",
       "    <tr>\n",
       "      <th>1824</th>\n",
       "      <td>1.2.643.5.1.13.13.12.2.77.8252.141403010209110...</td>\n",
       "      <td>0</td>\n",
       "    </tr>\n",
       "  </tbody>\n",
       "</table>\n",
       "<p>1825 rows × 2 columns</p>\n",
       "</div>"
      ],
      "text/plain": [
       "                                                 folder  sclerosis\n",
       "0     1.2.643.5.1.13.13.12.2.77.8252.000000121111080...          1\n",
       "1     1.2.643.5.1.13.13.12.2.77.8252.000414070704111...          1\n",
       "2     1.2.643.5.1.13.13.12.2.77.8252.010015031215071...          1\n",
       "3     1.2.643.5.1.13.13.12.2.77.8252.040311050308090...          1\n",
       "4     1.2.643.5.1.13.13.12.2.77.8252.040808121002100...          1\n",
       "...                                                 ...        ...\n",
       "1820  1.2.643.5.1.13.13.12.2.77.8252.101309001301050...          0\n",
       "1821  1.2.643.5.1.13.13.12.2.77.8252.110708141500050...          0\n",
       "1822  1.2.643.5.1.13.13.12.2.77.8252.130407091403110...          0\n",
       "1823  1.2.643.5.1.13.13.12.2.77.8252.140301100800021...          0\n",
       "1824  1.2.643.5.1.13.13.12.2.77.8252.141403010209110...          0\n",
       "\n",
       "[1825 rows x 2 columns]"
      ]
     },
     "execution_count": 26,
     "metadata": {},
     "output_type": "execute_result"
    }
   ],
   "source": [
    "dataset_csv"
   ]
  },
  {
   "cell_type": "markdown",
   "id": "01ea3bb1",
   "metadata": {},
   "source": [
    "На выходе мы получаем два списка, в одном лежат dicom файлы, во втором таргет. Прежде чем передавать их в обучение, их нужно привести к одному формату для нейронки(например 224х224)"
   ]
  },
  {
   "cell_type": "code",
   "execution_count": 55,
   "id": "a403a328",
   "metadata": {
    "scrolled": true
   },
   "outputs": [
    {
     "name": "stderr",
     "output_type": "stream",
     "text": [
      " 96%|██████████████████████████████████████████████████████████████████████████▌   | 1744/1825 [07:43<00:21,  3.76it/s]\n"
     ]
    },
    {
     "ename": "RuntimeError",
     "evalue": "Exception thrown in SimpleITK ImageSeriesReader_Execute: d:\\a\\1\\sitk-build\\itk-prefix\\include\\itk-5.3\\itkImageFileReader.hxx:335:\nImageIO returns IO region that does not fully contain the requested region. Requested region: ImageRegion (000000F5551E83F0)\n  Dimension: 3\n  Index: [0, 0, 0]\n  Size: [448, 512, 1]\nStreamableRegion region: ImageRegion (000000F5551E8460)\n  Dimension: 3\n  Index: [0, 0, 0]\n  Size: [512, 448, 1]\n",
     "output_type": "error",
     "traceback": [
      "\u001b[1;31m---------------------------------------------------------------------------\u001b[0m",
      "\u001b[1;31mRuntimeError\u001b[0m                              Traceback (most recent call last)",
      "Cell \u001b[1;32mIn[55], line 5\u001b[0m\n\u001b[0;32m      3\u001b[0m labels_numbs \u001b[38;5;241m=\u001b[39m \u001b[38;5;28mlist\u001b[39m(dataset_csv[\u001b[38;5;124m'\u001b[39m\u001b[38;5;124msclerosis\u001b[39m\u001b[38;5;124m'\u001b[39m])\n\u001b[0;32m      4\u001b[0m \u001b[38;5;28;01mfor\u001b[39;00m i, dicom \u001b[38;5;129;01min\u001b[39;00m tqdm(\u001b[38;5;28menumerate\u001b[39m(\u001b[38;5;28mlist\u001b[39m(dataset_csv[\u001b[38;5;124m'\u001b[39m\u001b[38;5;124mfolder\u001b[39m\u001b[38;5;124m'\u001b[39m])), total\u001b[38;5;241m=\u001b[39mtotal):\n\u001b[1;32m----> 5\u001b[0m     img \u001b[38;5;241m=\u001b[39m \u001b[43mload_dicom\u001b[49m\u001b[43m(\u001b[49m\u001b[43mdicom\u001b[49m\u001b[43m)\u001b[49m\n\u001b[0;32m      6\u001b[0m     image_layers\u001b[38;5;241m.\u001b[39mextend(img)\n\u001b[0;32m      7\u001b[0m     \u001b[38;5;28;01mfor\u001b[39;00m m \u001b[38;5;129;01min\u001b[39;00m \u001b[38;5;28mrange\u001b[39m(img\u001b[38;5;241m.\u001b[39mshape[\u001b[38;5;241m0\u001b[39m]):\n",
      "Cell \u001b[1;32mIn[25], line 5\u001b[0m, in \u001b[0;36mload_dicom\u001b[1;34m(directory)\u001b[0m\n\u001b[0;32m      3\u001b[0m dicom_names \u001b[38;5;241m=\u001b[39m reader\u001b[38;5;241m.\u001b[39mGetGDCMSeriesFileNames(directory)\n\u001b[0;32m      4\u001b[0m reader\u001b[38;5;241m.\u001b[39mSetFileNames(dicom_names)\n\u001b[1;32m----> 5\u001b[0m image_itk \u001b[38;5;241m=\u001b[39m \u001b[43mreader\u001b[49m\u001b[38;5;241;43m.\u001b[39;49m\u001b[43mExecute\u001b[49m\u001b[43m(\u001b[49m\u001b[43m)\u001b[49m\n\u001b[0;32m      6\u001b[0m image_zyx \u001b[38;5;241m=\u001b[39m sitk\u001b[38;5;241m.\u001b[39mGetArrayFromImage(image_itk)\u001b[38;5;241m.\u001b[39mastype(np\u001b[38;5;241m.\u001b[39mint16)\n\u001b[0;32m      7\u001b[0m \u001b[38;5;28;01mreturn\u001b[39;00m image_zyx\n",
      "File \u001b[1;32m~\\anaconda3\\lib\\site-packages\\SimpleITK\\SimpleITK.py:8276\u001b[0m, in \u001b[0;36mImageSeriesReader.Execute\u001b[1;34m(self)\u001b[0m\n\u001b[0;32m   8263\u001b[0m \u001b[38;5;28;01mdef\u001b[39;00m \u001b[38;5;21mExecute\u001b[39m(\u001b[38;5;28mself\u001b[39m):\n\u001b[0;32m   8264\u001b[0m     \u001b[38;5;124mr\u001b[39m\u001b[38;5;124;03m\"\"\"\u001b[39;00m\n\u001b[0;32m   8265\u001b[0m \u001b[38;5;124;03m    Execute(ImageSeriesReader self) -> Image\u001b[39;00m\n\u001b[0;32m   8266\u001b[0m \n\u001b[1;32m   (...)\u001b[0m\n\u001b[0;32m   8274\u001b[0m \n\u001b[0;32m   8275\u001b[0m \u001b[38;5;124;03m    \"\"\"\u001b[39;00m\n\u001b[1;32m-> 8276\u001b[0m     \u001b[38;5;28;01mreturn\u001b[39;00m \u001b[43m_SimpleITK\u001b[49m\u001b[38;5;241;43m.\u001b[39;49m\u001b[43mImageSeriesReader_Execute\u001b[49m\u001b[43m(\u001b[49m\u001b[38;5;28;43mself\u001b[39;49m\u001b[43m)\u001b[49m\n",
      "\u001b[1;31mRuntimeError\u001b[0m: Exception thrown in SimpleITK ImageSeriesReader_Execute: d:\\a\\1\\sitk-build\\itk-prefix\\include\\itk-5.3\\itkImageFileReader.hxx:335:\nImageIO returns IO region that does not fully contain the requested region. Requested region: ImageRegion (000000F5551E83F0)\n  Dimension: 3\n  Index: [0, 0, 0]\n  Size: [448, 512, 1]\nStreamableRegion region: ImageRegion (000000F5551E8460)\n  Dimension: 3\n  Index: [0, 0, 0]\n  Size: [512, 448, 1]\n"
     ]
    }
   ],
   "source": [
    "image_layers = []\n",
    "labels = []\n",
    "labels_numbs = list(dataset_csv['sclerosis'])\n",
    "total = len(list(dataset_csv['folder']))\n",
    "for i, dicom in tqdm(enumerate(list(dataset_csv['folder'])), total=total):\n",
    "    img = load_dicom(dicom)\n",
    "    image_layers.extend(img)\n",
    "    for m in range(img.shape[0]):\n",
    "        labels.append(labels_numbs[i])\n",
    "   "
   ]
  },
  {
   "cell_type": "code",
   "execution_count": 57,
   "id": "2c8819e1",
   "metadata": {},
   "outputs": [
    {
     "data": {
      "text/plain": [
       "71460"
      ]
     },
     "execution_count": 57,
     "metadata": {},
     "output_type": "execute_result"
    }
   ],
   "source": [
    "len(image_layers)"
   ]
  },
  {
   "cell_type": "code",
   "execution_count": 58,
   "id": "6b0a0c96",
   "metadata": {},
   "outputs": [
    {
     "data": {
      "text/plain": [
       "71460"
      ]
     },
     "execution_count": 58,
     "metadata": {},
     "output_type": "execute_result"
    }
   ],
   "source": [
    "len(labels)"
   ]
  },
  {
   "cell_type": "code",
   "execution_count": null,
   "id": "7c2c4042",
   "metadata": {},
   "outputs": [],
   "source": []
  },
  {
   "cell_type": "code",
   "execution_count": null,
   "id": "f160c5ce",
   "metadata": {},
   "outputs": [],
   "source": []
  }
 ],
 "metadata": {
  "kernelspec": {
   "display_name": "Python 3 (ipykernel)",
   "language": "python",
   "name": "python3"
  },
  "language_info": {
   "codemirror_mode": {
    "name": "ipython",
    "version": 3
   },
   "file_extension": ".py",
   "mimetype": "text/x-python",
   "name": "python",
   "nbconvert_exporter": "python",
   "pygments_lexer": "ipython3",
   "version": "3.10.9"
  }
 },
 "nbformat": 4,
 "nbformat_minor": 5
}
