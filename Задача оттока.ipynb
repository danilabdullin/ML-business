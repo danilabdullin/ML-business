{
 "cells": [
  {
   "cell_type": "code",
   "execution_count": 115,
   "id": "fb36b800",
   "metadata": {},
   "outputs": [],
   "source": [
    "import pandas as pd\n",
    "import numpy as np\n",
    "from sklearn.pipeline import Pipeline, make_pipeline\n",
    "from sklearn.base import BaseEstimator, TransformerMixin\n",
    "from sklearn.linear_model import LogisticRegression\n",
    "from sklearn.model_selection import train_test_split\n",
    "import matplotlib.pyplot as plt\n",
    "\n",
    "import itertools\n"
   ]
  },
  {
   "cell_type": "markdown",
   "id": "db70f2ca",
   "metadata": {},
   "source": [
    "### 1. Для нашего пайплайна (Case1) поэкспериментировать с разными моделями: 1 - бустинг, 2 - логистическая регрессия"
   ]
  },
  {
   "cell_type": "code",
   "execution_count": 4,
   "id": "09dbef52",
   "metadata": {},
   "outputs": [
    {
     "data": {
      "text/html": [
       "<div>\n",
       "<style scoped>\n",
       "    .dataframe tbody tr th:only-of-type {\n",
       "        vertical-align: middle;\n",
       "    }\n",
       "\n",
       "    .dataframe tbody tr th {\n",
       "        vertical-align: top;\n",
       "    }\n",
       "\n",
       "    .dataframe thead th {\n",
       "        text-align: right;\n",
       "    }\n",
       "</style>\n",
       "<table border=\"1\" class=\"dataframe\">\n",
       "  <thead>\n",
       "    <tr style=\"text-align: right;\">\n",
       "      <th></th>\n",
       "      <th>CustomerId</th>\n",
       "      <th>Surname</th>\n",
       "      <th>CreditScore</th>\n",
       "      <th>Geography</th>\n",
       "      <th>Gender</th>\n",
       "      <th>Age</th>\n",
       "      <th>Tenure</th>\n",
       "      <th>Balance</th>\n",
       "      <th>NumOfProducts</th>\n",
       "      <th>HasCrCard</th>\n",
       "      <th>IsActiveMember</th>\n",
       "      <th>EstimatedSalary</th>\n",
       "      <th>Exited</th>\n",
       "    </tr>\n",
       "    <tr>\n",
       "      <th>RowNumber</th>\n",
       "      <th></th>\n",
       "      <th></th>\n",
       "      <th></th>\n",
       "      <th></th>\n",
       "      <th></th>\n",
       "      <th></th>\n",
       "      <th></th>\n",
       "      <th></th>\n",
       "      <th></th>\n",
       "      <th></th>\n",
       "      <th></th>\n",
       "      <th></th>\n",
       "      <th></th>\n",
       "    </tr>\n",
       "  </thead>\n",
       "  <tbody>\n",
       "    <tr>\n",
       "      <th>1</th>\n",
       "      <td>15634602</td>\n",
       "      <td>Hargrave</td>\n",
       "      <td>619</td>\n",
       "      <td>France</td>\n",
       "      <td>Female</td>\n",
       "      <td>42</td>\n",
       "      <td>2</td>\n",
       "      <td>0.00</td>\n",
       "      <td>1</td>\n",
       "      <td>1</td>\n",
       "      <td>1</td>\n",
       "      <td>101348.88</td>\n",
       "      <td>1</td>\n",
       "    </tr>\n",
       "    <tr>\n",
       "      <th>2</th>\n",
       "      <td>15647311</td>\n",
       "      <td>Hill</td>\n",
       "      <td>608</td>\n",
       "      <td>Spain</td>\n",
       "      <td>Female</td>\n",
       "      <td>41</td>\n",
       "      <td>1</td>\n",
       "      <td>83807.86</td>\n",
       "      <td>1</td>\n",
       "      <td>0</td>\n",
       "      <td>1</td>\n",
       "      <td>112542.58</td>\n",
       "      <td>0</td>\n",
       "    </tr>\n",
       "    <tr>\n",
       "      <th>3</th>\n",
       "      <td>15619304</td>\n",
       "      <td>Onio</td>\n",
       "      <td>502</td>\n",
       "      <td>France</td>\n",
       "      <td>Female</td>\n",
       "      <td>42</td>\n",
       "      <td>8</td>\n",
       "      <td>159660.80</td>\n",
       "      <td>3</td>\n",
       "      <td>1</td>\n",
       "      <td>0</td>\n",
       "      <td>113931.57</td>\n",
       "      <td>1</td>\n",
       "    </tr>\n",
       "    <tr>\n",
       "      <th>4</th>\n",
       "      <td>15701354</td>\n",
       "      <td>Boni</td>\n",
       "      <td>699</td>\n",
       "      <td>France</td>\n",
       "      <td>Female</td>\n",
       "      <td>39</td>\n",
       "      <td>1</td>\n",
       "      <td>0.00</td>\n",
       "      <td>2</td>\n",
       "      <td>0</td>\n",
       "      <td>0</td>\n",
       "      <td>93826.63</td>\n",
       "      <td>0</td>\n",
       "    </tr>\n",
       "    <tr>\n",
       "      <th>5</th>\n",
       "      <td>15737888</td>\n",
       "      <td>Mitchell</td>\n",
       "      <td>850</td>\n",
       "      <td>Spain</td>\n",
       "      <td>Female</td>\n",
       "      <td>43</td>\n",
       "      <td>2</td>\n",
       "      <td>125510.82</td>\n",
       "      <td>1</td>\n",
       "      <td>1</td>\n",
       "      <td>1</td>\n",
       "      <td>79084.10</td>\n",
       "      <td>0</td>\n",
       "    </tr>\n",
       "  </tbody>\n",
       "</table>\n",
       "</div>"
      ],
      "text/plain": [
       "           CustomerId   Surname  CreditScore Geography  Gender  Age  Tenure  \\\n",
       "RowNumber                                                                     \n",
       "1            15634602  Hargrave          619    France  Female   42       2   \n",
       "2            15647311      Hill          608     Spain  Female   41       1   \n",
       "3            15619304      Onio          502    France  Female   42       8   \n",
       "4            15701354      Boni          699    France  Female   39       1   \n",
       "5            15737888  Mitchell          850     Spain  Female   43       2   \n",
       "\n",
       "             Balance  NumOfProducts  HasCrCard  IsActiveMember  \\\n",
       "RowNumber                                                        \n",
       "1               0.00              1          1               1   \n",
       "2           83807.86              1          0               1   \n",
       "3          159660.80              3          1               0   \n",
       "4               0.00              2          0               0   \n",
       "5          125510.82              1          1               1   \n",
       "\n",
       "           EstimatedSalary  Exited  \n",
       "RowNumber                           \n",
       "1                101348.88       1  \n",
       "2                112542.58       0  \n",
       "3                113931.57       1  \n",
       "4                 93826.63       0  \n",
       "5                 79084.10       0  "
      ]
     },
     "execution_count": 4,
     "metadata": {},
     "output_type": "execute_result"
    }
   ],
   "source": [
    "df = pd.read_csv('churn_data.csv', index_col='RowNumber')\n",
    "df.head()\n",
    "# Отток клиентов банка"
   ]
  },
  {
   "cell_type": "code",
   "execution_count": 9,
   "id": "2f4c9f7a",
   "metadata": {},
   "outputs": [
    {
     "data": {
      "text/plain": [
       "(10000, 13)"
      ]
     },
     "execution_count": 9,
     "metadata": {},
     "output_type": "execute_result"
    }
   ],
   "source": [
    "df.shape"
   ]
  },
  {
   "cell_type": "code",
   "execution_count": 11,
   "id": "40ef40af",
   "metadata": {},
   "outputs": [
    {
     "data": {
      "text/plain": [
       "2932"
      ]
     },
     "execution_count": 11,
     "metadata": {},
     "output_type": "execute_result"
    }
   ],
   "source": [
    "df.Surname.nunique()\n",
    "# можно объяснить такое относительное небольшое кол-во фамилий тем, что это могут быть одни семьи, просто совпадениями \n",
    "# или у одного человека есть счета в разных странах. "
   ]
  },
  {
   "cell_type": "code",
   "execution_count": 12,
   "id": "87d15bae",
   "metadata": {},
   "outputs": [
    {
     "data": {
      "text/plain": [
       "3"
      ]
     },
     "execution_count": 12,
     "metadata": {},
     "output_type": "execute_result"
    }
   ],
   "source": [
    "df.Geography.nunique()\n",
    "#можно использовать dummies"
   ]
  },
  {
   "cell_type": "code",
   "execution_count": 13,
   "id": "34442281",
   "metadata": {},
   "outputs": [
    {
     "data": {
      "text/plain": [
       "2"
      ]
     },
     "execution_count": 13,
     "metadata": {},
     "output_type": "execute_result"
    }
   ],
   "source": [
    "df.Gender.nunique()\n",
    "#пропусков нет"
   ]
  },
  {
   "cell_type": "code",
   "execution_count": 7,
   "id": "a99dfe07",
   "metadata": {},
   "outputs": [
    {
     "data": {
      "text/plain": [
       "['CustomerId',\n",
       " 'Surname',\n",
       " 'CreditScore',\n",
       " 'Geography',\n",
       " 'Gender',\n",
       " 'Age',\n",
       " 'Tenure',\n",
       " 'Balance',\n",
       " 'NumOfProducts',\n",
       " 'HasCrCard',\n",
       " 'IsActiveMember',\n",
       " 'EstimatedSalary',\n",
       " 'Exited']"
      ]
     },
     "execution_count": 7,
     "metadata": {},
     "output_type": "execute_result"
    }
   ],
   "source": [
    "df.columns.to_list()"
   ]
  },
  {
   "cell_type": "code",
   "execution_count": 14,
   "id": "6c993232",
   "metadata": {},
   "outputs": [],
   "source": [
    "cols = ['CustomerId',\n",
    " 'Surname',\n",
    " 'CreditScore',\n",
    " 'Geography',\n",
    " 'Gender',\n",
    " 'Age',\n",
    " 'Tenure',\n",
    " 'Balance',\n",
    " 'NumOfProducts',\n",
    " 'HasCrCard',\n",
    " 'IsActiveMember',\n",
    " 'EstimatedSalary']"
   ]
  },
  {
   "cell_type": "code",
   "execution_count": 15,
   "id": "f142dfa7",
   "metadata": {},
   "outputs": [],
   "source": [
    "X_train, X_test, y_train, y_test = train_test_split(df[cols], df['Exited'], random_state=0)"
   ]
  },
  {
   "cell_type": "code",
   "execution_count": 38,
   "id": "a84b88c6",
   "metadata": {},
   "outputs": [],
   "source": [
    "class FeatureSelector(BaseEstimator, TransformerMixin):\n",
    "    def __init__(self, column):\n",
    "        self.column = column\n",
    "\n",
    "    def fit(self, X, y=None):\n",
    "        return self\n",
    "\n",
    "    def transform(self, X, y=None):\n",
    "        return X[self.column]\n",
    "    \n",
    "class NumberSelector(BaseEstimator, TransformerMixin):\n",
    "    \"\"\"\n",
    "    Transformer to select a single column from the data frame to perform additional transformations on\n",
    "    Use on numeric columns in the data\n",
    "    \"\"\"\n",
    "    def __init__(self, key):\n",
    "        self.key = key\n",
    "\n",
    "    def fit(self, X, y=None):\n",
    "        return self\n",
    "\n",
    "    def transform(self, X):\n",
    "        return X[[self.key]]\n",
    "    \n",
    "class OHEEncoder(BaseEstimator, TransformerMixin):\n",
    "    def __init__(self, key):\n",
    "        self.key = key\n",
    "        self.columns = []\n",
    "\n",
    "    def fit(self, X, y=None):\n",
    "        self.columns = [col for col in pd.get_dummies(X, prefix=self.key).columns]\n",
    "        return self\n",
    "\n",
    "    def transform(self, X):\n",
    "        X = pd.get_dummies(X, prefix=self.key)\n",
    "        test_columns = [col for col in X.columns]\n",
    "        for col_ in self.columns:\n",
    "            if col_ not in test_columns:\n",
    "                X[col_] = 0\n",
    "        return X[self.columns]\n",
    "    "
   ]
  },
  {
   "cell_type": "code",
   "execution_count": null,
   "id": "3da9f707",
   "metadata": {},
   "outputs": [],
   "source": []
  },
  {
   "cell_type": "code",
   "execution_count": 78,
   "id": "21c4686e",
   "metadata": {},
   "outputs": [],
   "source": [
    "categorical_columns = ['Geography', 'Gender', 'Tenure', 'HasCrCard', 'IsActiveMember']\n",
    "continuous_columns = ['CreditScore', 'Age', 'Balance', 'NumOfProducts', 'EstimatedSalary']"
   ]
  },
  {
   "cell_type": "code",
   "execution_count": 79,
   "id": "84125e3e",
   "metadata": {},
   "outputs": [],
   "source": [
    "final_transformers = list()\n",
    "\n",
    "for cat_col in categorical_columns:\n",
    "    cat_transformer = Pipeline([\n",
    "                ('selector', FeatureSelector(column=cat_col)),\n",
    "                ('ohe', OHEEncoder(key=cat_col))\n",
    "            ])\n",
    "    final_transformers.append((cat_col, cat_transformer))\n",
    "    \n",
    "for cont_col in continuous_columns:\n",
    "    cont_transformer = Pipeline([\n",
    "                ('selector', NumberSelector(key=cont_col))\n",
    "            ])\n",
    "    final_transformers.append((cont_col, cont_transformer))"
   ]
  },
  {
   "cell_type": "code",
   "execution_count": 80,
   "id": "cc3129b1",
   "metadata": {},
   "outputs": [],
   "source": [
    "from sklearn.pipeline import FeatureUnion\n",
    "feats = FeatureUnion(final_transformers)\n",
    "\n",
    "feature_processing = Pipeline([('feats', feats)])"
   ]
  },
  {
   "cell_type": "code",
   "execution_count": 81,
   "id": "8d1bf600",
   "metadata": {},
   "outputs": [],
   "source": [
    "from sklearn.ensemble import RandomForestClassifier\n",
    "\n",
    "pipeline = Pipeline([\n",
    "    ('features',feats),\n",
    "    ('classifier', RandomForestClassifier(random_state = 42)),\n",
    "])"
   ]
  },
  {
   "cell_type": "code",
   "execution_count": 82,
   "id": "a0b4c05f",
   "metadata": {},
   "outputs": [
    {
     "data": {
      "text/plain": [
       "Pipeline(steps=[('features',\n",
       "                 FeatureUnion(transformer_list=[('Geography',\n",
       "                                                 Pipeline(steps=[('selector',\n",
       "                                                                  FeatureSelector(column='Geography')),\n",
       "                                                                 ('ohe',\n",
       "                                                                  OHEEncoder(key='Geography'))])),\n",
       "                                                ('Gender',\n",
       "                                                 Pipeline(steps=[('selector',\n",
       "                                                                  FeatureSelector(column='Gender')),\n",
       "                                                                 ('ohe',\n",
       "                                                                  OHEEncoder(key='Gender'))])),\n",
       "                                                ('Tenure',\n",
       "                                                 Pipeline(steps=[('selector',\n",
       "                                                                  FeatureSelector(column='Tenu...\n",
       "                                                 Pipeline(steps=[('selector',\n",
       "                                                                  NumberSelector(key='Age'))])),\n",
       "                                                ('Balance',\n",
       "                                                 Pipeline(steps=[('selector',\n",
       "                                                                  NumberSelector(key='Balance'))])),\n",
       "                                                ('NumOfProducts',\n",
       "                                                 Pipeline(steps=[('selector',\n",
       "                                                                  NumberSelector(key='NumOfProducts'))])),\n",
       "                                                ('EstimatedSalary',\n",
       "                                                 Pipeline(steps=[('selector',\n",
       "                                                                  NumberSelector(key='EstimatedSalary'))]))])),\n",
       "                ('classifier', RandomForestClassifier(random_state=42))])"
      ]
     },
     "execution_count": 82,
     "metadata": {},
     "output_type": "execute_result"
    }
   ],
   "source": [
    "pipeline.fit(X_train, y_train)"
   ]
  },
  {
   "cell_type": "code",
   "execution_count": 83,
   "id": "5adeac1c",
   "metadata": {},
   "outputs": [],
   "source": [
    "preds = pipeline.predict_proba(X_test)[:, 1]"
   ]
  },
  {
   "cell_type": "code",
   "execution_count": 84,
   "id": "5cd52eff",
   "metadata": {},
   "outputs": [],
   "source": [
    "from sklearn.metrics import f1_score, roc_auc_score, precision_score, classification_report, precision_recall_curve, confusion_matrix"
   ]
  },
  {
   "cell_type": "code",
   "execution_count": 85,
   "id": "85e5518a",
   "metadata": {},
   "outputs": [
    {
     "data": {
      "text/html": [
       "<div>\n",
       "<style scoped>\n",
       "    .dataframe tbody tr th:only-of-type {\n",
       "        vertical-align: middle;\n",
       "    }\n",
       "\n",
       "    .dataframe tbody tr th {\n",
       "        vertical-align: top;\n",
       "    }\n",
       "\n",
       "    .dataframe thead th {\n",
       "        text-align: right;\n",
       "    }\n",
       "</style>\n",
       "<table border=\"1\" class=\"dataframe\">\n",
       "  <thead>\n",
       "    <tr style=\"text-align: right;\">\n",
       "      <th></th>\n",
       "      <th>model</th>\n",
       "      <th>thresh</th>\n",
       "      <th>F-Score</th>\n",
       "      <th>Precision</th>\n",
       "      <th>Recall</th>\n",
       "      <th>ROC AUC</th>\n",
       "    </tr>\n",
       "  </thead>\n",
       "  <tbody>\n",
       "  </tbody>\n",
       "</table>\n",
       "</div>"
      ],
      "text/plain": [
       "Empty DataFrame\n",
       "Columns: [model, thresh, F-Score, Precision, Recall, ROC AUC]\n",
       "Index: []"
      ]
     },
     "execution_count": 85,
     "metadata": {},
     "output_type": "execute_result"
    }
   ],
   "source": [
    "metrics_df = pd.DataFrame(columns=['model', 'thresh', 'F-Score', 'Precision', 'Recall', 'ROC AUC'])\n",
    "metrics_df"
   ]
  },
  {
   "cell_type": "code",
   "execution_count": 86,
   "id": "b5bf97ae",
   "metadata": {},
   "outputs": [
    {
     "data": {
      "text/html": [
       "<div>\n",
       "<style scoped>\n",
       "    .dataframe tbody tr th:only-of-type {\n",
       "        vertical-align: middle;\n",
       "    }\n",
       "\n",
       "    .dataframe tbody tr th {\n",
       "        vertical-align: top;\n",
       "    }\n",
       "\n",
       "    .dataframe thead th {\n",
       "        text-align: right;\n",
       "    }\n",
       "</style>\n",
       "<table border=\"1\" class=\"dataframe\">\n",
       "  <thead>\n",
       "    <tr style=\"text-align: right;\">\n",
       "      <th></th>\n",
       "      <th>model</th>\n",
       "      <th>thresh</th>\n",
       "      <th>F-Score</th>\n",
       "      <th>Precision</th>\n",
       "      <th>Recall</th>\n",
       "      <th>ROC AUC</th>\n",
       "    </tr>\n",
       "  </thead>\n",
       "  <tbody>\n",
       "    <tr>\n",
       "      <th>0</th>\n",
       "      <td>(DecisionTreeClassifier(max_features='auto', r...</td>\n",
       "      <td>0.38</td>\n",
       "      <td>0.640641</td>\n",
       "      <td>0.653061</td>\n",
       "      <td>0.628684</td>\n",
       "      <td>0.863502</td>\n",
       "    </tr>\n",
       "  </tbody>\n",
       "</table>\n",
       "</div>"
      ],
      "text/plain": [
       "                                               model  thresh   F-Score  \\\n",
       "0  (DecisionTreeClassifier(max_features='auto', r...    0.38  0.640641   \n",
       "\n",
       "   Precision    Recall   ROC AUC  \n",
       "0   0.653061  0.628684  0.863502  "
      ]
     },
     "execution_count": 86,
     "metadata": {},
     "output_type": "execute_result"
    }
   ],
   "source": [
    "precision, recall, thresholds = precision_recall_curve(y_test, preds)\n",
    "fscore = (2 * precision * recall) / (precision + recall)\n",
    "ix = np.argmax(fscore)\n",
    "\n",
    "metrics_df = metrics_df.append({\n",
    "    'model': pipeline.get_params(deep=False)['steps'][1][1],\n",
    "    'thresh': thresholds[ix],\n",
    "    'F-Score': fscore[ix],\n",
    "    'Precision': precision[ix],\n",
    "    'Recall': recall[ix],\n",
    "    'ROC AUC': roc_auc_score(y_test, preds)\n",
    "}, ignore_index=True)\n",
    "metrics_df"
   ]
  },
  {
   "cell_type": "code",
   "execution_count": 54,
   "id": "6ca9a46f",
   "metadata": {},
   "outputs": [],
   "source": [
    "from catboost import CatBoostClassifier"
   ]
  },
  {
   "cell_type": "code",
   "execution_count": 87,
   "id": "6f2d273d",
   "metadata": {},
   "outputs": [],
   "source": [
    "categorical_columns = ['Surname','Geography', 'Gender']"
   ]
  },
  {
   "cell_type": "code",
   "execution_count": 88,
   "id": "52c58fbf",
   "metadata": {},
   "outputs": [
    {
     "data": {
      "text/plain": [
       "<catboost.core.CatBoostClassifier at 0x1d11817a7f0>"
      ]
     },
     "execution_count": 88,
     "metadata": {},
     "output_type": "execute_result"
    }
   ],
   "source": [
    "ctb = CatBoostClassifier(iterations=100, thread_count=10, random_state=42, silent=True)\n",
    "ctb.fit(X_train, y_train, \n",
    "        cat_features=categorical_columns, \n",
    "        verbose=False\n",
    ")\n"
   ]
  },
  {
   "cell_type": "code",
   "execution_count": 89,
   "id": "0765a455",
   "metadata": {},
   "outputs": [],
   "source": [
    "preds = ctb.predict_proba(X_test)[:, 1]"
   ]
  },
  {
   "cell_type": "code",
   "execution_count": 90,
   "id": "161fe537",
   "metadata": {},
   "outputs": [
    {
     "data": {
      "text/html": [
       "<div>\n",
       "<style scoped>\n",
       "    .dataframe tbody tr th:only-of-type {\n",
       "        vertical-align: middle;\n",
       "    }\n",
       "\n",
       "    .dataframe tbody tr th {\n",
       "        vertical-align: top;\n",
       "    }\n",
       "\n",
       "    .dataframe thead th {\n",
       "        text-align: right;\n",
       "    }\n",
       "</style>\n",
       "<table border=\"1\" class=\"dataframe\">\n",
       "  <thead>\n",
       "    <tr style=\"text-align: right;\">\n",
       "      <th></th>\n",
       "      <th>model</th>\n",
       "      <th>thresh</th>\n",
       "      <th>F-Score</th>\n",
       "      <th>Precision</th>\n",
       "      <th>Recall</th>\n",
       "      <th>ROC AUC</th>\n",
       "    </tr>\n",
       "  </thead>\n",
       "  <tbody>\n",
       "    <tr>\n",
       "      <th>0</th>\n",
       "      <td>(DecisionTreeClassifier(max_features='auto', r...</td>\n",
       "      <td>0.380000</td>\n",
       "      <td>0.640641</td>\n",
       "      <td>0.653061</td>\n",
       "      <td>0.628684</td>\n",
       "      <td>0.863502</td>\n",
       "    </tr>\n",
       "    <tr>\n",
       "      <th>1</th>\n",
       "      <td>CatBoost</td>\n",
       "      <td>0.340422</td>\n",
       "      <td>0.647454</td>\n",
       "      <td>0.633459</td>\n",
       "      <td>0.662083</td>\n",
       "      <td>0.874779</td>\n",
       "    </tr>\n",
       "  </tbody>\n",
       "</table>\n",
       "</div>"
      ],
      "text/plain": [
       "                                               model    thresh   F-Score  \\\n",
       "0  (DecisionTreeClassifier(max_features='auto', r...  0.380000  0.640641   \n",
       "1                                           CatBoost  0.340422  0.647454   \n",
       "\n",
       "   Precision    Recall   ROC AUC  \n",
       "0   0.653061  0.628684  0.863502  \n",
       "1   0.633459  0.662083  0.874779  "
      ]
     },
     "execution_count": 90,
     "metadata": {},
     "output_type": "execute_result"
    }
   ],
   "source": [
    "precision, recall, thresholds = precision_recall_curve(y_test, preds)\n",
    "fscore = (2 * precision * recall) / (precision + recall)\n",
    "ix = np.argmax(fscore)\n",
    "\n",
    "metrics_df = metrics_df.append({\n",
    "    'model': 'CatBoost',\n",
    "    'thresh': thresholds[ix],\n",
    "    'F-Score': fscore[ix],\n",
    "    'Precision': precision[ix],\n",
    "    'Recall': recall[ix],\n",
    "    'ROC AUC': roc_auc_score(y_test, preds)\n",
    "}, ignore_index=True)\n",
    "metrics_df"
   ]
  },
  {
   "cell_type": "code",
   "execution_count": 94,
   "id": "5a2f21c5",
   "metadata": {},
   "outputs": [],
   "source": [
    "from sklearn.preprocessing import StandardScaler\n",
    "from sklearn.linear_model import LogisticRegression"
   ]
  },
  {
   "cell_type": "code",
   "execution_count": 92,
   "id": "c274c571",
   "metadata": {},
   "outputs": [],
   "source": [
    "categorical_columns = ['Geography', 'Gender', 'Tenure', 'HasCrCard', 'IsActiveMember']\n",
    "continuous_columns = ['CreditScore', 'Age', 'Balance', 'NumOfProducts', 'EstimatedSalary']"
   ]
  },
  {
   "cell_type": "code",
   "execution_count": 93,
   "id": "c7549e3f",
   "metadata": {},
   "outputs": [],
   "source": [
    "final_transformers = list()\n",
    "\n",
    "for cat_col in categorical_columns:\n",
    "    cat_transformer = Pipeline([\n",
    "                ('selector', FeatureSelector(column=cat_col)),\n",
    "                ('ohe', OHEEncoder(key=cat_col))\n",
    "            ])\n",
    "    final_transformers.append((cat_col, cat_transformer))\n",
    "    \n",
    "for cont_col in continuous_columns:\n",
    "    cont_transformer = Pipeline([\n",
    "                ('selector', NumberSelector(key=cont_col)),\n",
    "        ('standard', StandardScaler())\n",
    "            ])\n",
    "    final_transformers.append((cont_col, cont_transformer))"
   ]
  },
  {
   "cell_type": "code",
   "execution_count": 95,
   "id": "9be1bcb7",
   "metadata": {},
   "outputs": [],
   "source": [
    "feats = FeatureUnion(final_transformers)\n",
    "\n",
    "feature_processing = Pipeline([('feats', feats)])"
   ]
  },
  {
   "cell_type": "code",
   "execution_count": 96,
   "id": "3e1b2f76",
   "metadata": {},
   "outputs": [
    {
     "data": {
      "text/plain": [
       "Pipeline(steps=[('features',\n",
       "                 FeatureUnion(transformer_list=[('Geography',\n",
       "                                                 Pipeline(steps=[('selector',\n",
       "                                                                  FeatureSelector(column='Geography')),\n",
       "                                                                 ('ohe',\n",
       "                                                                  OHEEncoder(key='Geography'))])),\n",
       "                                                ('Gender',\n",
       "                                                 Pipeline(steps=[('selector',\n",
       "                                                                  FeatureSelector(column='Gender')),\n",
       "                                                                 ('ohe',\n",
       "                                                                  OHEEncoder(key='Gender'))])),\n",
       "                                                ('Tenure',\n",
       "                                                 Pipeline(steps=[('selector',\n",
       "                                                                  FeatureSelector(column='Tenu...\n",
       "                                                                  NumberSelector(key='Balance')),\n",
       "                                                                 ('standard',\n",
       "                                                                  StandardScaler())])),\n",
       "                                                ('NumOfProducts',\n",
       "                                                 Pipeline(steps=[('selector',\n",
       "                                                                  NumberSelector(key='NumOfProducts')),\n",
       "                                                                 ('standard',\n",
       "                                                                  StandardScaler())])),\n",
       "                                                ('EstimatedSalary',\n",
       "                                                 Pipeline(steps=[('selector',\n",
       "                                                                  NumberSelector(key='EstimatedSalary')),\n",
       "                                                                 ('standard',\n",
       "                                                                  StandardScaler())]))])),\n",
       "                ('classifier', LogisticRegression(random_state=42))])"
      ]
     },
     "execution_count": 96,
     "metadata": {},
     "output_type": "execute_result"
    }
   ],
   "source": [
    "pipeline = Pipeline([\n",
    "    ('features',feats),\n",
    "    ('classifier', LogisticRegression(random_state = 42)),\n",
    "])\n",
    "pipeline.fit(X_train, y_train)"
   ]
  },
  {
   "cell_type": "code",
   "execution_count": 97,
   "id": "a500c133",
   "metadata": {},
   "outputs": [],
   "source": [
    "preds = pipeline.predict_proba(X_test)[:, 1]"
   ]
  },
  {
   "cell_type": "code",
   "execution_count": 112,
   "id": "f5fbed62",
   "metadata": {},
   "outputs": [],
   "source": [
    "precision, recall, thresholds = precision_recall_curve(y_test, preds)\n",
    "fscore = (2 * precision * recall) / (precision + recall)\n",
    "ix = np.argmax(fscore)\n",
    "\n",
    "metrics_df = metrics_df.append({\n",
    "    'model': pipeline.get_params(deep=False)['steps'][1][1],\n",
    "    'thresh': thresholds[ix],\n",
    "    'F-Score': fscore[ix],\n",
    "    'Precision': precision[ix],\n",
    "    'Recall': recall[ix],\n",
    "    'ROC AUC': roc_auc_score(y_test, preds)\n",
    "}, ignore_index=True)\n"
   ]
  },
  {
   "cell_type": "code",
   "execution_count": 113,
   "id": "ca4b9637",
   "metadata": {},
   "outputs": [
    {
     "data": {
      "text/html": [
       "<div>\n",
       "<style scoped>\n",
       "    .dataframe tbody tr th:only-of-type {\n",
       "        vertical-align: middle;\n",
       "    }\n",
       "\n",
       "    .dataframe tbody tr th {\n",
       "        vertical-align: top;\n",
       "    }\n",
       "\n",
       "    .dataframe thead th {\n",
       "        text-align: right;\n",
       "    }\n",
       "</style>\n",
       "<table border=\"1\" class=\"dataframe\">\n",
       "  <thead>\n",
       "    <tr style=\"text-align: right;\">\n",
       "      <th></th>\n",
       "      <th>model</th>\n",
       "      <th>thresh</th>\n",
       "      <th>F-Score</th>\n",
       "      <th>Precision</th>\n",
       "      <th>Recall</th>\n",
       "      <th>ROC AUC</th>\n",
       "    </tr>\n",
       "  </thead>\n",
       "  <tbody>\n",
       "    <tr>\n",
       "      <th>0</th>\n",
       "      <td>(DecisionTreeClassifier(max_features='auto', r...</td>\n",
       "      <td>0.380000</td>\n",
       "      <td>0.640641</td>\n",
       "      <td>0.653061</td>\n",
       "      <td>0.628684</td>\n",
       "      <td>0.863502</td>\n",
       "    </tr>\n",
       "    <tr>\n",
       "      <th>1</th>\n",
       "      <td>CatBoost</td>\n",
       "      <td>0.340422</td>\n",
       "      <td>0.647454</td>\n",
       "      <td>0.633459</td>\n",
       "      <td>0.662083</td>\n",
       "      <td>0.874779</td>\n",
       "    </tr>\n",
       "    <tr>\n",
       "      <th>2</th>\n",
       "      <td>LogisticRegression(random_state=42)</td>\n",
       "      <td>0.289522</td>\n",
       "      <td>0.509700</td>\n",
       "      <td>0.462400</td>\n",
       "      <td>0.567780</td>\n",
       "      <td>0.772077</td>\n",
       "    </tr>\n",
       "  </tbody>\n",
       "</table>\n",
       "</div>"
      ],
      "text/plain": [
       "                                               model    thresh   F-Score  \\\n",
       "0  (DecisionTreeClassifier(max_features='auto', r...  0.380000  0.640641   \n",
       "1                                           CatBoost  0.340422  0.647454   \n",
       "2                LogisticRegression(random_state=42)  0.289522  0.509700   \n",
       "\n",
       "   Precision    Recall   ROC AUC  \n",
       "0   0.653061  0.628684  0.863502  \n",
       "1   0.633459  0.662083  0.874779  \n",
       "2   0.462400  0.567780  0.772077  "
      ]
     },
     "execution_count": 113,
     "metadata": {},
     "output_type": "execute_result"
    }
   ],
   "source": [
    "metrics_df"
   ]
  },
  {
   "cell_type": "markdown",
   "id": "4f30c81f",
   "metadata": {},
   "source": [
    "### 2. Отобрать лучшую модель по метрикам (кстати, какая по вашему мнению здесь наиболее подходящая DS-метрика)\n",
    "### 3. Для отобранной модели (на отложенной выборке) сделать оценку экономической эффективности при тех же вводных, как в вопросе 2 (1 доллар на удержание, 2 доллара - с каждого правильно классифицированного (True Positive) удержанного). (подсказка) нужно посчитать FP/TP/FN/TN для выбранного оптимального порога вероятности и посчитать выручку и траты."
   ]
  },
  {
   "cell_type": "markdown",
   "id": "4936232f",
   "metadata": {},
   "source": [
    "Была выбрана модель CatBoost, так как у нее выше F-score и recall. \n",
    "\n",
    "Чтобы понять какая метрика наиболее подходящая и одновременно ответить на третий вопрос, я сделал 3 матрицы, в которых были максимизирвоаны F-score, recall и precision. \n",
    "\n",
    "Для расчета экономической обоснованности я буду использовать следующую формулу: 2 * (tp-fp) - (fn+tn), так как 2 доллара нам будут давать наши существующие клиенты(tp) минус ушедшие клиенты(fp), так как мы не смогли идентифицировать их как уходящих и соответственно не удержали их. Из них мы вычтем и тех, клиентов, которые ушли в отток(tn), так как мы их правильно нашли и потратим деньги на их удержание, но так же мы потратим деньги на удержание неправильно идентифицированных клиентов(fn).\n",
    "\n"
   ]
  },
  {
   "cell_type": "code",
   "execution_count": 122,
   "id": "eaddc568",
   "metadata": {},
   "outputs": [
    {
     "name": "stdout",
     "output_type": "stream",
     "text": [
      "f_score: 2693\n",
      "recall: -4379\n",
      "precision: 3473\n"
     ]
    }
   ],
   "source": [
    "print(f'f_score: {2*(1796-195)-(173+336)}')\n",
    "print(f'recall: {2*(58-1993)-(508+1)}')\n",
    "print(f'precision: {2*(1991)-(477+32)}')"
   ]
  },
  {
   "cell_type": "markdown",
   "id": "daf15b89",
   "metadata": {},
   "source": [
    "### В итоге мы видим, что лучшей метрикой конкретно в этой задаче, оказалась precision, так как при нашем соотношении оттока 1 к 4, нам лучше просто определить всех как \"не уходящих\"  и не тратить деньги на удержание кого-либо. "
   ]
  },
  {
   "cell_type": "code",
   "execution_count": 117,
   "id": "b364f1cb",
   "metadata": {},
   "outputs": [],
   "source": [
    "def plot_confusion_matrix(cm, classes,\n",
    "                          normalize=False,\n",
    "                          title='Confusion matrix',\n",
    "                          cmap=plt.cm.Blues):\n",
    "    \"\"\"\n",
    "    This function prints and plots the confusion matrix.\n",
    "    Normalization can be applied by setting `normalize=True`.\n",
    "    \"\"\"\n",
    "    plt.imshow(cm, interpolation='nearest', cmap=cmap)\n",
    "    plt.title(title)\n",
    "    plt.colorbar()\n",
    "    tick_marks = np.arange(len(classes))\n",
    "    plt.xticks(tick_marks, classes, rotation=45)\n",
    "    plt.yticks(tick_marks, classes)\n",
    "\n",
    "    if normalize:\n",
    "        cm = cm.astype('float') / cm.sum(axis=1)[:, np.newaxis]\n",
    "        print(\"Normalized confusion matrix\")\n",
    "    else:\n",
    "        print('Confusion matrix, without normalization')\n",
    "\n",
    "    print(cm)\n",
    "\n",
    "    thresh = cm.max() / 2.\n",
    "    for i, j in itertools.product(range(cm.shape[0]), range(cm.shape[1])):\n",
    "        plt.text(j, i, cm[i, j],\n",
    "                 horizontalalignment=\"center\",\n",
    "                 color=\"white\" if cm[i, j] > thresh else \"black\")\n",
    "\n",
    "    plt.tight_layout()\n",
    "    plt.ylabel('True label')\n",
    "    plt.xlabel('Predicted label')"
   ]
  },
  {
   "cell_type": "code",
   "execution_count": null,
   "id": "a45b1ee9",
   "metadata": {},
   "outputs": [],
   "source": []
  },
  {
   "cell_type": "code",
   "execution_count": 118,
   "id": "ab08d7df",
   "metadata": {},
   "outputs": [
    {
     "name": "stdout",
     "output_type": "stream",
     "text": [
      "Confusion matrix, without normalization\n",
      "[[1796  195]\n",
      " [ 173  336]]\n"
     ]
    },
    {
     "data": {
      "image/png": "[encoded data removed]",
      "text/plain": [
       "<Figure size 720x576 with 2 Axes>"
      ]
     },
     "metadata": {
      "needs_background": "light"
     },
     "output_type": "display_data"
    }
   ],
   "source": [
    "categorical_columns = ['Surname','Geography', 'Gender']\n",
    "ctb = CatBoostClassifier(iterations=100, thread_count=10, random_state=42, silent=True)\n",
    "ctb.fit(X_train, y_train, \n",
    "        cat_features=categorical_columns, \n",
    "        verbose=False\n",
    ")\n",
    "preds = ctb.predict_proba(X_test)[:, 1]\n",
    "precision, recall, thresholds = precision_recall_curve(y_test, preds)\n",
    "fscore = (2 * precision * recall) / (precision + recall)\n",
    "ix = np.argmax(fscore)\n",
    "font = {'size' : 15}\n",
    "\n",
    "plt.rc('font', **font)\n",
    "\n",
    "cnf_matrix = confusion_matrix(y_test, preds>thresholds[ix])\n",
    "plt.figure(figsize=(10, 8))\n",
    "plot_confusion_matrix(cnf_matrix, classes=['NonChurn', 'Churn'],\n",
    "                      title='Confusion matrix')\n",
    "plt.savefig(\"conf_matrix.png\")\n",
    "plt.show()"
   ]
  },
  {
   "cell_type": "code",
   "execution_count": 119,
   "id": "cf6c2134",
   "metadata": {},
   "outputs": [
    {
     "name": "stdout",
     "output_type": "stream",
     "text": [
      "Confusion matrix, without normalization\n",
      "[[  58 1933]\n",
      " [   1  508]]\n"
     ]
    },
    {
     "data": {
      "image/png": "[encoded data removed]",
      "text/plain": [
       "<Figure size 720x576 with 2 Axes>"
      ]
     },
     "metadata": {
      "needs_background": "light"
     },
     "output_type": "display_data"
    }
   ],
   "source": [
    "precision, recall, thresholds = precision_recall_curve(y_test, preds)\n",
    "fscore = (2 * precision * recall) / (precision + recall)\n",
    "ix = np.argmax(recall)\n",
    "font = {'size' : 15}\n",
    "\n",
    "plt.rc('font', **font)\n",
    "\n",
    "cnf_matrix = confusion_matrix(y_test, preds>thresholds[ix])\n",
    "plt.figure(figsize=(10, 8))\n",
    "plot_confusion_matrix(cnf_matrix, classes=['NonChurn', 'Churn'],\n",
    "                      title='Confusion matrix')\n",
    "plt.savefig(\"conf_matrix.png\")\n",
    "plt.show()"
   ]
  },
  {
   "cell_type": "code",
   "execution_count": 120,
   "id": "57d36e26",
   "metadata": {},
   "outputs": [
    {
     "name": "stdout",
     "output_type": "stream",
     "text": [
      "Confusion matrix, without normalization\n",
      "[[1991    0]\n",
      " [ 477   32]]\n"
     ]
    },
    {
     "data": {
      "image/png": "[encoded data removed]",
      "text/plain": [
       "<Figure size 720x576 with 2 Axes>"
      ]
     },
     "metadata": {
      "needs_background": "light"
     },
     "output_type": "display_data"
    }
   ],
   "source": [
    "precision, recall, thresholds = precision_recall_curve(y_test, preds)\n",
    "fscore = (2 * precision * recall) / (precision + recall)\n",
    "ix = np.argmax(precision)\n",
    "font = {'size' : 15}\n",
    "\n",
    "plt.rc('font', **font)\n",
    "\n",
    "cnf_matrix = confusion_matrix(y_test, preds>thresholds[ix])\n",
    "plt.figure(figsize=(10, 8))\n",
    "plot_confusion_matrix(cnf_matrix, classes=['NonChurn', 'Churn'],\n",
    "                      title='Confusion matrix')\n",
    "plt.savefig(\"conf_matrix.png\")\n",
    "plt.show()"
   ]
  },
  {
   "cell_type": "markdown",
   "id": "84cff2f2",
   "metadata": {},
   "source": [
    "### 4. (опционально) Провести подбор гиперпараметров лучшей модели по итогам 2-3"
   ]
  },
  {
   "cell_type": "code",
   "execution_count": 150,
   "id": "1e64deaa",
   "metadata": {},
   "outputs": [],
   "source": [
    "from sklearn.model_selection import GridSearchCV\n",
    "grid = {'learning_rate': [0.03, 0.1],\n",
    "        'depth': [4, 6, 10],\n",
    "        'l2_leaf_reg': [1, 3, 5, 7, 9]}\n",
    "model = CatBoostClassifier(cat_features=categorical_columns, task_type=\"GPU\", verbose=1000)"
   ]
  },
  {
   "cell_type": "code",
   "execution_count": 151,
   "id": "18af0d1c",
   "metadata": {},
   "outputs": [
    {
     "name": "stdout",
     "output_type": "stream",
     "text": [
      "0:\tlearn: 0.6811287\ttest: 0.6808267\tbest: 0.6808267 (0)\ttotal: 35.9ms\tremaining: 35.9s\n",
      "999:\tlearn: 0.3341854\ttest: 0.3190020\tbest: 0.3189995 (988)\ttotal: 35.6s\tremaining: 0us\n",
      "bestTest = 0.318999471\n",
      "bestIteration = 988\n",
      "0:\tloss: 0.3189995\tbest: 0.3189995 (0)\ttotal: 36.7s\tremaining: 17m 43s\n",
      "0:\tlearn: 0.6547353\ttest: 0.6538086\tbest: 0.6538086 (0)\ttotal: 28.9ms\tremaining: 28.9s\n",
      "999:\tlearn: 0.3048864\ttest: 0.3086727\tbest: 0.3048160 (528)\ttotal: 33.6s\tremaining: 0us\n",
      "bestTest = 0.30481604\n",
      "bestIteration = 528\n",
      "1:\tloss: 0.3048160\tbest: 0.3048160 (1)\ttotal: 1m 10s\tremaining: 16m 33s\n",
      "0:\tlearn: 0.6811390\ttest: 0.6808267\tbest: 0.6808267 (0)\ttotal: 32.1ms\tremaining: 32.1s\n",
      "999:\tlearn: 0.3334491\ttest: 0.3161292\tbest: 0.3161172 (955)\ttotal: 35.3s\tremaining: 0us\n",
      "bestTest = 0.3161172282\n",
      "bestIteration = 955\n",
      "2:\tloss: 0.3161172\tbest: 0.3048160 (1)\ttotal: 1m 46s\tremaining: 16m 1s\n",
      "0:\tlearn: 0.6547658\ttest: 0.6538086\tbest: 0.6538086 (0)\ttotal: 32ms\tremaining: 31.9s\n",
      "999:\tlearn: 0.3026498\ttest: 0.3069226\tbest: 0.3043097 (384)\ttotal: 34s\tremaining: 0us\n",
      "bestTest = 0.3043096924\n",
      "bestIteration = 384\n",
      "3:\tloss: 0.3043097\tbest: 0.3043097 (3)\ttotal: 2m 21s\tremaining: 15m 19s\n",
      "0:\tlearn: 0.6811437\ttest: 0.6808267\tbest: 0.6808267 (0)\ttotal: 42ms\tremaining: 42s\n",
      "999:\tlearn: 0.3305547\ttest: 0.3125713\tbest: 0.3125589 (981)\ttotal: 34.8s\tremaining: 0us\n",
      "bestTest = 0.3125588989\n",
      "bestIteration = 981\n",
      "4:\tloss: 0.3125589\tbest: 0.3043097 (3)\ttotal: 2m 56s\tremaining: 14m 44s\n",
      "0:\tlearn: 0.6547804\ttest: 0.6538086\tbest: 0.6538086 (0)\ttotal: 31.5ms\tremaining: 31.5s\n",
      "999:\tlearn: 0.3062288\ttest: 0.3047654\tbest: 0.3034435 (783)\ttotal: 31.5s\tremaining: 0us\n",
      "bestTest = 0.3034435018\n",
      "bestIteration = 783\n",
      "5:\tloss: 0.3034435\tbest: 0.3034435 (5)\ttotal: 3m 29s\tremaining: 13m 56s\n",
      "0:\tlearn: 0.6811793\ttest: 0.6814468\tbest: 0.6814468 (0)\ttotal: 26.1ms\tremaining: 26.1s\n",
      "999:\tlearn: 0.3278303\ttest: 0.3084216\tbest: 0.3083048 (953)\ttotal: 32.1s\tremaining: 0us\n",
      "bestTest = 0.3083047689\n",
      "bestIteration = 953\n",
      "6:\tloss: 0.3083048\tbest: 0.3034435 (5)\ttotal: 4m 1s\tremaining: 13m 14s\n",
      "0:\tlearn: 0.6548921\ttest: 0.6557022\tbest: 0.6557022 (0)\ttotal: 29.5ms\tremaining: 29.5s\n",
      "999:\tlearn: 0.3064831\ttest: 0.3068173\tbest: 0.3051583 (656)\ttotal: 30.8s\tremaining: 0us\n",
      "bestTest = 0.3051582845\n",
      "bestIteration = 656\n",
      "7:\tloss: 0.3051583\tbest: 0.3034435 (5)\ttotal: 4m 33s\tremaining: 12m 31s\n",
      "0:\tlearn: 0.6811810\ttest: 0.6814468\tbest: 0.6814468 (0)\ttotal: 27.6ms\tremaining: 27.5s\n",
      "999:\tlearn: 0.3267568\ttest: 0.3076536\tbest: 0.3076536 (999)\ttotal: 32.8s\tremaining: 0us\n",
      "bestTest = 0.3076535645\n",
      "bestIteration = 999\n",
      "8:\tloss: 0.3076536\tbest: 0.3034435 (5)\ttotal: 5m 6s\tremaining: 11m 55s\n",
      "0:\tlearn: 0.6548975\ttest: 0.6557022\tbest: 0.6557022 (0)\ttotal: 29.8ms\tremaining: 29.8s\n",
      "999:\tlearn: 0.3070641\ttest: 0.3067211\tbest: 0.3036918 (556)\ttotal: 33.2s\tremaining: 0us\n",
      "bestTest = 0.3036918132\n",
      "bestIteration = 556\n",
      "9:\tloss: 0.3036918\tbest: 0.3034435 (5)\ttotal: 5m 40s\tremaining: 11m 20s\n",
      "0:\tlearn: 0.6811287\ttest: 0.6808267\tbest: 0.6808267 (0)\ttotal: 43.6ms\tremaining: 43.5s\n",
      "999:\tlearn: 0.3321886\ttest: 0.3171743\tbest: 0.3171708 (981)\ttotal: 36.6s\tremaining: 0us\n",
      "bestTest = 0.3171707967\n",
      "bestIteration = 981\n",
      "10:\tloss: 0.3171708\tbest: 0.3034435 (5)\ttotal: 6m 17s\tremaining: 10m 52s\n",
      "0:\tlearn: 0.6547353\ttest: 0.6538086\tbest: 0.6538086 (0)\ttotal: 40.7ms\tremaining: 40.7s\n",
      "999:\tlearn: 0.3008927\ttest: 0.3094891\tbest: 0.3057079 (562)\ttotal: 35.7s\tremaining: 0us\n",
      "bestTest = 0.3057079264\n",
      "bestIteration = 562\n",
      "11:\tloss: 0.3057079\tbest: 0.3034435 (5)\ttotal: 6m 53s\tremaining: 10m 20s\n",
      "0:\tlearn: 0.6811390\ttest: 0.6808267\tbest: 0.6808267 (0)\ttotal: 42.3ms\tremaining: 42.2s\n",
      "999:\tlearn: 0.3321953\ttest: 0.3162861\tbest: 0.3162861 (999)\ttotal: 37.2s\tremaining: 0us\n",
      "bestTest = 0.3162860718\n",
      "bestIteration = 999\n",
      "12:\tloss: 0.3162861\tbest: 0.3034435 (5)\ttotal: 7m 31s\tremaining: 9m 50s\n",
      "0:\tlearn: 0.6547658\ttest: 0.6538086\tbest: 0.6538086 (0)\ttotal: 38.9ms\tremaining: 38.8s\n",
      "999:\tlearn: 0.3083511\ttest: 0.3062060\tbest: 0.3058765 (922)\ttotal: 33.8s\tremaining: 0us\n",
      "bestTest = 0.3058765462\n",
      "bestIteration = 922\n",
      "13:\tloss: 0.3058765\tbest: 0.3034435 (5)\ttotal: 8m 6s\tremaining: 9m 15s\n",
      "0:\tlearn: 0.6811437\ttest: 0.6808267\tbest: 0.6808267 (0)\ttotal: 44.1ms\tremaining: 44.1s\n",
      "999:\tlearn: 0.3312159\ttest: 0.3150672\tbest: 0.3150429 (981)\ttotal: 36.5s\tremaining: 0us\n",
      "bestTest = 0.3150429281\n",
      "bestIteration = 981\n",
      "14:\tloss: 0.3150429\tbest: 0.3034435 (5)\ttotal: 8m 43s\tremaining: 8m 43s\n",
      "0:\tlearn: 0.6547804\ttest: 0.6538086\tbest: 0.6538086 (0)\ttotal: 39ms\tremaining: 39s\n",
      "999:\tlearn: 0.3042608\ttest: 0.3112312\tbest: 0.3082762 (769)\ttotal: 35.7s\tremaining: 0us\n",
      "bestTest = 0.3082762451\n",
      "bestIteration = 769\n",
      "15:\tloss: 0.3082762\tbest: 0.3034435 (5)\ttotal: 9m 19s\tremaining: 8m 9s\n",
      "0:\tlearn: 0.6811793\ttest: 0.6814468\tbest: 0.6814468 (0)\ttotal: 27.7ms\tremaining: 27.7s\n",
      "999:\tlearn: 0.3319976\ttest: 0.3150212\tbest: 0.3150212 (999)\ttotal: 36.9s\tremaining: 0us\n",
      "bestTest = 0.3150212402\n",
      "bestIteration = 999\n",
      "16:\tloss: 0.3150212\tbest: 0.3034435 (5)\ttotal: 9m 57s\tremaining: 7m 36s\n",
      "0:\tlearn: 0.6548921\ttest: 0.6557022\tbest: 0.6557022 (0)\ttotal: 26.9ms\tremaining: 26.9s\n",
      "999:\tlearn: 0.3067613\ttest: 0.3076131\tbest: 0.3056632 (646)\ttotal: 34.4s\tremaining: 0us\n",
      "bestTest = 0.3056632487\n",
      "bestIteration = 646\n",
      "17:\tloss: 0.3056632\tbest: 0.3034435 (5)\ttotal: 10m 32s\tremaining: 7m 1s\n",
      "0:\tlearn: 0.6811810\ttest: 0.6814468\tbest: 0.6814468 (0)\ttotal: 26.3ms\tremaining: 26.2s\n",
      "999:\tlearn: 0.3314307\ttest: 0.3143679\tbest: 0.3143679 (999)\ttotal: 36.9s\tremaining: 0us\n",
      "bestTest = 0.3143679199\n",
      "bestIteration = 999\n",
      "18:\tloss: 0.3143679\tbest: 0.3034435 (5)\ttotal: 11m 9s\tremaining: 6m 27s\n",
      "0:\tlearn: 0.6548975\ttest: 0.6557022\tbest: 0.6557022 (0)\ttotal: 28.7ms\tremaining: 28.6s\n",
      "999:\tlearn: 0.3067381\ttest: 0.3082823\tbest: 0.3041631 (651)\ttotal: 35.4s\tremaining: 0us\n",
      "bestTest = 0.304163147\n",
      "bestIteration = 651\n",
      "19:\tloss: 0.3041631\tbest: 0.3034435 (5)\ttotal: 11m 45s\tremaining: 5m 52s\n",
      "0:\tlearn: 0.6811287\ttest: 0.6808267\tbest: 0.6808267 (0)\ttotal: 45.7ms\tremaining: 45.6s\n",
      "999:\tlearn: 0.3279462\ttest: 0.3109846\tbest: 0.3109846 (999)\ttotal: 38.3s\tremaining: 0us\n",
      "bestTest = 0.3109846395\n",
      "bestIteration = 999\n",
      "20:\tloss: 0.3109846\tbest: 0.3034435 (5)\ttotal: 12m 24s\tremaining: 5m 19s\n",
      "0:\tlearn: 0.6547353\ttest: 0.6538086\tbest: 0.6538086 (0)\ttotal: 43.4ms\tremaining: 43.4s\n",
      "999:\tlearn: 0.3041188\ttest: 0.3079369\tbest: 0.3053575 (873)\ttotal: 33.9s\tremaining: 0us\n",
      "bestTest = 0.3053575033\n",
      "bestIteration = 873\n",
      "21:\tloss: 0.3053575\tbest: 0.3034435 (5)\ttotal: 12m 59s\tremaining: 4m 43s\n",
      "0:\tlearn: 0.6811390\ttest: 0.6808267\tbest: 0.6808267 (0)\ttotal: 46.2ms\tremaining: 46.2s\n",
      "999:\tlearn: 0.3334684\ttest: 0.3173443\tbest: 0.3173234 (988)\ttotal: 38.8s\tremaining: 0us\n",
      "bestTest = 0.3173234456\n",
      "bestIteration = 988\n",
      "22:\tloss: 0.3173234\tbest: 0.3034435 (5)\ttotal: 13m 38s\tremaining: 4m 9s\n",
      "0:\tlearn: 0.6547658\ttest: 0.6538086\tbest: 0.6538086 (0)\ttotal: 46.1ms\tremaining: 46s\n",
      "999:\tlearn: 0.3024731\ttest: 0.3071740\tbest: 0.3039781 (494)\ttotal: 35.4s\tremaining: 0us\n",
      "bestTest = 0.303978068\n",
      "bestIteration = 494\n",
      "23:\tloss: 0.3039781\tbest: 0.3034435 (5)\ttotal: 14m 14s\tremaining: 3m 33s\n",
      "0:\tlearn: 0.6811437\ttest: 0.6808267\tbest: 0.6808267 (0)\ttotal: 41.3ms\tremaining: 41.3s\n",
      "999:\tlearn: 0.3304724\ttest: 0.3144097\tbest: 0.3144097 (999)\ttotal: 40.7s\tremaining: 0us\n",
      "bestTest = 0.3144097493\n",
      "bestIteration = 999\n",
      "24:\tloss: 0.3144097\tbest: 0.3034435 (5)\ttotal: 14m 55s\tremaining: 2m 59s\n",
      "0:\tlearn: 0.6547804\ttest: 0.6538086\tbest: 0.6538086 (0)\ttotal: 42.8ms\tremaining: 42.8s\n",
      "999:\tlearn: 0.3066014\ttest: 0.3076115\tbest: 0.3051448 (721)\ttotal: 36.2s\tremaining: 0us\n",
      "bestTest = 0.305144755\n",
      "bestIteration = 721\n",
      "25:\tloss: 0.3051448\tbest: 0.3034435 (5)\ttotal: 15m 32s\tremaining: 2m 23s\n",
      "0:\tlearn: 0.6811793\ttest: 0.6814468\tbest: 0.6814468 (0)\ttotal: 30.1ms\tremaining: 30.1s\n",
      "999:\tlearn: 0.3305909\ttest: 0.3139059\tbest: 0.3139059 (999)\ttotal: 41.3s\tremaining: 0us\n",
      "bestTest = 0.3139059245\n",
      "bestIteration = 999\n",
      "26:\tloss: 0.3139059\tbest: 0.3034435 (5)\ttotal: 16m 14s\tremaining: 1m 48s\n",
      "0:\tlearn: 0.6548921\ttest: 0.6557022\tbest: 0.6557022 (0)\ttotal: 32.2ms\tremaining: 32.1s\n",
      "999:\tlearn: 0.3054940\ttest: 0.3070789\tbest: 0.3068470 (837)\ttotal: 35.6s\tremaining: 0us\n",
      "bestTest = 0.3068469645\n",
      "bestIteration = 837\n",
      "27:\tloss: 0.3068470\tbest: 0.3034435 (5)\ttotal: 16m 50s\tremaining: 1m 12s\n",
      "0:\tlearn: 0.6811810\ttest: 0.6814468\tbest: 0.6814468 (0)\ttotal: 26.3ms\tremaining: 26.3s\n"
     ]
    },
    {
     "name": "stdout",
     "output_type": "stream",
     "text": [
      "999:\tlearn: 0.3309874\ttest: 0.3138092\tbest: 0.3137312 (964)\ttotal: 42.5s\tremaining: 0us\n",
      "bestTest = 0.3137312215\n",
      "bestIteration = 964\n",
      "28:\tloss: 0.3137312\tbest: 0.3034435 (5)\ttotal: 17m 33s\tremaining: 36.3s\n",
      "0:\tlearn: 0.6548975\ttest: 0.6557022\tbest: 0.6557022 (0)\ttotal: 27.2ms\tremaining: 27.2s\n",
      "999:\tlearn: 0.3061620\ttest: 0.3068987\tbest: 0.3068987 (999)\ttotal: 36.5s\tremaining: 0us\n",
      "bestTest = 0.3068987223\n",
      "bestIteration = 999\n",
      "29:\tloss: 0.3068987\tbest: 0.3034435 (5)\ttotal: 18m 10s\tremaining: 0us\n",
      "Estimating final quality...\n",
      "0:\tlearn: 0.6547793\ttest: 0.6544917\tbest: 0.6544917 (0)\ttotal: 1.79s\tremaining: 29m 52s\n",
      "999:\tlearn: 0.3142490\ttest: 0.3380174\tbest: 0.3378726 (931)\ttotal: 30m 37s\tremaining: 0us\n"
     ]
    }
   ],
   "source": [
    "grid_search_result = model.grid_search(grid, \n",
    "                                       X=X_train, \n",
    "                                       y=y_train)"
   ]
  },
  {
   "cell_type": "code",
   "execution_count": 146,
   "id": "869df085",
   "metadata": {},
   "outputs": [
    {
     "data": {
      "text/plain": [
       "{'depth': 4, 'l2_leaf_reg': 7, 'learning_rate': 0.1}"
      ]
     },
     "execution_count": 146,
     "metadata": {},
     "output_type": "execute_result"
    }
   ],
   "source": [
    "grid_search_result['params'] #cpu"
   ]
  },
  {
   "cell_type": "code",
   "execution_count": 152,
   "id": "9a7ae316",
   "metadata": {},
   "outputs": [
    {
     "data": {
      "text/plain": [
       "{'depth': 4, 'l2_leaf_reg': 5, 'learning_rate': 0.1}"
      ]
     },
     "execution_count": 152,
     "metadata": {},
     "output_type": "execute_result"
    }
   ],
   "source": [
    "grid_search_result['params'] #gpu"
   ]
  },
  {
   "cell_type": "markdown",
   "id": "6f4baea2",
   "metadata": {},
   "source": [
    "### 5. (опционально) Еще раз провести оценку экономической эффективности"
   ]
  },
  {
   "cell_type": "code",
   "execution_count": 155,
   "id": "25e0baa4",
   "metadata": {},
   "outputs": [
    {
     "name": "stdout",
     "output_type": "stream",
     "text": [
      "Confusion matrix, without normalization\n",
      "[[1809  182]\n",
      " [ 186  323]]\n"
     ]
    },
    {
     "data": {
      "image/png": "[encoded data removed]",
      "text/plain": [
       "<Figure size 720x576 with 2 Axes>"
      ]
     },
     "metadata": {
      "needs_background": "light"
     },
     "output_type": "display_data"
    }
   ],
   "source": [
    "preds = model.predict_proba(X_test)[:, 1]\n",
    "precision, recall, thresholds = precision_recall_curve(y_test, preds)\n",
    "fscore = (2 * precision * recall) / (precision + recall)\n",
    "ix = np.argmax(fscore)\n",
    "font = {'size' : 15}\n",
    "\n",
    "plt.rc('font', **font)\n",
    "\n",
    "cnf_matrix = confusion_matrix(y_test, preds>thresholds[ix])\n",
    "plt.figure(figsize=(10, 8))\n",
    "plot_confusion_matrix(cnf_matrix, classes=['NonChurn', 'Churn'],\n",
    "                      title='Confusion matrix')\n",
    "plt.savefig(\"conf_matrix.png\")\n",
    "plt.show()\n"
   ]
  },
  {
   "cell_type": "code",
   "execution_count": 157,
   "id": "47517d16",
   "metadata": {},
   "outputs": [
    {
     "name": "stdout",
     "output_type": "stream",
     "text": [
      "Confusion matrix, without normalization\n",
      "[[1991    0]\n",
      " [ 481   28]]\n"
     ]
    },
    {
     "data": {
      "image/png": "[encoded data removed]",
      "text/plain": [
       "<Figure size 720x576 with 2 Axes>"
      ]
     },
     "metadata": {
      "needs_background": "light"
     },
     "output_type": "display_data"
    }
   ],
   "source": [
    "preds = model.predict_proba(X_test)[:, 1]\n",
    "precision, recall, thresholds = precision_recall_curve(y_test, preds)\n",
    "fscore = (2 * precision * recall) / (precision + recall)\n",
    "ix = np.argmax(precision)\n",
    "font = {'size' : 15}\n",
    "\n",
    "plt.rc('font', **font)\n",
    "\n",
    "cnf_matrix = confusion_matrix(y_test, preds>thresholds[ix])\n",
    "plt.figure(figsize=(10, 8))\n",
    "plot_confusion_matrix(cnf_matrix, classes=['NonChurn', 'Churn'],\n",
    "                      title='Confusion matrix')\n",
    "plt.savefig(\"conf_matrix.png\")\n",
    "plt.show()\n"
   ]
  },
  {
   "cell_type": "code",
   "execution_count": 159,
   "id": "5ddedd6f",
   "metadata": {},
   "outputs": [
    {
     "name": "stdout",
     "output_type": "stream",
     "text": [
      "New model f-score: 2731 previous results: 2693\n",
      "New model recall: 3473 previous result: 3473\n"
     ]
    }
   ],
   "source": [
    "print(f'New model f-score: {2*(1802-182)-(186+323)} previous results: 2693')\n",
    "print(f'New model recall: {2*(1991)-(481+28)} previous result: 3473')"
   ]
  },
  {
   "cell_type": "code",
   "execution_count": null,
   "id": "2aa35adb",
   "metadata": {},
   "outputs": [],
   "source": []
  }
 ],
 "metadata": {
  "kernelspec": {
   "display_name": "Python 3",
   "language": "python",
   "name": "python3"
  },
  "language_info": {
   "codemirror_mode": {
    "name": "ipython",
    "version": 3
   },
   "file_extension": ".py",
   "mimetype": "text/x-python",
   "name": "python",
   "nbconvert_exporter": "python",
   "pygments_lexer": "ipython3",
   "version": "3.8.8"
  }
 },
 "nbformat": 4,
 "nbformat_minor": 5
}
