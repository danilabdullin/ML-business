{
 "cells": [
  {
   "cell_type": "code",
   "execution_count": 7,
   "id": "10143086",
   "metadata": {},
   "outputs": [],
   "source": [
    "import os\n",
    "import shutil\n",
    "import pandas as pd"
   ]
  },
  {
   "cell_type": "markdown",
   "id": "69adbf8f",
   "metadata": {},
   "source": [
    "## Перед началом, создай копию своего изначального датасета,который ты почистил"
   ]
  },
  {
   "cell_type": "markdown",
   "id": "80910090",
   "metadata": {},
   "source": [
    "Твоя папка будет состоять из следующих файлов:\n",
    "- Изначальный датасет\n",
    "- 1_custom_tensorflow_dataset\n",
    "- dataset\n",
    "     |- 2_custom_dataset\n",
    "     \n",
    "     \n",
    "ты создаешь папку датасет и добавляешь в него 2_custom_dataset. 1_custom_tensorflow_dataset ты запускаешь первым, после чего переходишь к 2_custom_dataset и работаешь в нем"
   ]
  },
  {
   "cell_type": "code",
   "execution_count": 2,
   "id": "2f06a9c3",
   "metadata": {},
   "outputs": [],
   "source": [
    "# Меняем слеши для Windows\n",
    "def make_path_right(path):\n",
    "    path = path.replace('\\\\','/')\n",
    "    return path"
   ]
  },
  {
   "cell_type": "code",
   "execution_count": 5,
   "id": "dbabc53b",
   "metadata": {},
   "outputs": [],
   "source": [
    "# Папка с изначальным датасетом, в нашем случае с датасетом, где оставлены только поперечные мрт\n",
    "root_dir = './SCLEROSIS21_172/'\n",
    "# Создаем список с путями до всех папок, в которых есть файлы DICOM\n",
    "# при этом иcпользуем не os.listdir(), а os.scandir(), потому что пути до папок слишком длинные\n",
    "dicom_dirs = []\n",
    "for scanner_dir in os.scandir(root_dir):\n",
    "    if scanner_dir.is_dir():\n",
    "        for study_dir in os.scandir(scanner_dir):\n",
    "            if study_dir.is_dir():\n",
    "                for series_dir in os.scandir(study_dir):\n",
    "                    if series_dir.is_dir():\n",
    "                        if any(file.name.endswith('.dcm') for file in os.scandir(series_dir)):\n",
    "                            directory = make_path_right(series_dir.path)\n",
    "                            dicom_dirs.append(directory)\n"
   ]
  },
  {
   "cell_type": "code",
   "execution_count": 6,
   "id": "c07c4b83",
   "metadata": {},
   "outputs": [
    {
     "data": {
      "text/plain": [
       "['./SCLEROSIS21_172/EXCELMR1_GB1_anon/1.2.643.5.1.13.13.12.2.77.8252.01101314101209110010040306071511/1.2.643.5.1.13.13.12.2.77.8252.00000012111108071003041505040813',\n",
       " './SCLEROSIS21_172/EXCELMR1_GB1_anon/1.2.643.5.1.13.13.12.2.77.8252.01101314101209110010040306071511/1.2.643.5.1.13.13.12.2.77.8252.00041407070411100306000901020002',\n",
       " './SCLEROSIS21_172/EXCELMR1_GB1_anon/1.2.643.5.1.13.13.12.2.77.8252.01101314101209110010040306071511/1.2.643.5.1.13.13.12.2.77.8252.01001503121507140008050007091013',\n",
       " './SCLEROSIS21_172/EXCELMR1_GB1_anon/1.2.643.5.1.13.13.12.2.77.8252.01101314101209110010040306071511/1.2.643.5.1.13.13.12.2.77.8252.04031105030809060511070011111100',\n",
       " './SCLEROSIS21_172/EXCELMR1_GB1_anon/1.2.643.5.1.13.13.12.2.77.8252.01101314101209110010040306071511/1.2.643.5.1.13.13.12.2.77.8252.04080812100210010709030900111215']"
      ]
     },
     "execution_count": 6,
     "metadata": {},
     "output_type": "execute_result"
    }
   ],
   "source": [
    "dicom_dirs[:5]"
   ]
  },
  {
   "cell_type": "code",
   "execution_count": 56,
   "id": "d2f6fd11",
   "metadata": {},
   "outputs": [],
   "source": [
    "\n",
    "# Целевая директория, в которую мы будем переносить наши папки с DICOM и в которой в последствии мы создадим\n",
    "# новый ноутбук в котором продолдим работу, потому что папки открываются только в той же директории, в которой\n",
    "# и сам ноутбук. Именно в это директорию нужно положить ноутбук 2_custom_dataset\n",
    "target_dir = \"./dataset\""
   ]
  },
  {
   "cell_type": "code",
   "execution_count": 57,
   "id": "cb8868d3",
   "metadata": {},
   "outputs": [],
   "source": [
    "# Проходимся по списку с директориями и переносим их в нашу новую директорию \n",
    "for dir_path in dicom_dirs:\n",
    "    shutil.move(dir_path, target_dir)"
   ]
  },
  {
   "cell_type": "markdown",
   "id": "48810bf2",
   "metadata": {},
   "source": [
    "### Создаем pandas dataframe с разметкой"
   ]
  },
  {
   "cell_type": "markdown",
   "id": "e662583e",
   "metadata": {},
   "source": [
    "Здесь мы делаем так, чтобы картинки и таргет были синхронизированы, после запуска всех ячеек переходи в папку 'dataset', в которой должен лежать ноутбук 2_custom_dataset"
   ]
  },
  {
   "cell_type": "code",
   "execution_count": 39,
   "id": "c9c6033f",
   "metadata": {},
   "outputs": [],
   "source": [
    "result = pd.DataFrame(columns=['folder', 'study_uid'])\n",
    "for path in dicom_dirs:\n",
    "    path = path.split('/')\n",
    "    new_row = pd.DataFrame({'folder':[path[4]], 'study_uid':[path[3]]})\n",
    "    result = pd.concat([result, new_row], ignore_index=True)"
   ]
  },
  {
   "cell_type": "code",
   "execution_count": 36,
   "id": "cf04073a",
   "metadata": {},
   "outputs": [
    {
     "data": {
      "text/html": [
       "<div>\n",
       "<style scoped>\n",
       "    .dataframe tbody tr th:only-of-type {\n",
       "        vertical-align: middle;\n",
       "    }\n",
       "\n",
       "    .dataframe tbody tr th {\n",
       "        vertical-align: top;\n",
       "    }\n",
       "\n",
       "    .dataframe thead th {\n",
       "        text-align: right;\n",
       "    }\n",
       "</style>\n",
       "<table border=\"1\" class=\"dataframe\">\n",
       "  <thead>\n",
       "    <tr style=\"text-align: right;\">\n",
       "      <th></th>\n",
       "      <th>folder</th>\n",
       "      <th>study_uid</th>\n",
       "    </tr>\n",
       "  </thead>\n",
       "  <tbody>\n",
       "    <tr>\n",
       "      <th>0</th>\n",
       "      <td>1.2.643.5.1.13.13.12.2.77.8252.000000121111080...</td>\n",
       "      <td>1.2.643.5.1.13.13.12.2.77.8252.011013141012091...</td>\n",
       "    </tr>\n",
       "    <tr>\n",
       "      <th>1</th>\n",
       "      <td>1.2.643.5.1.13.13.12.2.77.8252.000414070704111...</td>\n",
       "      <td>1.2.643.5.1.13.13.12.2.77.8252.011013141012091...</td>\n",
       "    </tr>\n",
       "    <tr>\n",
       "      <th>2</th>\n",
       "      <td>1.2.643.5.1.13.13.12.2.77.8252.010015031215071...</td>\n",
       "      <td>1.2.643.5.1.13.13.12.2.77.8252.011013141012091...</td>\n",
       "    </tr>\n",
       "    <tr>\n",
       "      <th>3</th>\n",
       "      <td>1.2.643.5.1.13.13.12.2.77.8252.040311050308090...</td>\n",
       "      <td>1.2.643.5.1.13.13.12.2.77.8252.011013141012091...</td>\n",
       "    </tr>\n",
       "    <tr>\n",
       "      <th>4</th>\n",
       "      <td>1.2.643.5.1.13.13.12.2.77.8252.040808121002100...</td>\n",
       "      <td>1.2.643.5.1.13.13.12.2.77.8252.011013141012091...</td>\n",
       "    </tr>\n",
       "  </tbody>\n",
       "</table>\n",
       "</div>"
      ],
      "text/plain": [
       "                                              folder  \\\n",
       "0  1.2.643.5.1.13.13.12.2.77.8252.000000121111080...   \n",
       "1  1.2.643.5.1.13.13.12.2.77.8252.000414070704111...   \n",
       "2  1.2.643.5.1.13.13.12.2.77.8252.010015031215071...   \n",
       "3  1.2.643.5.1.13.13.12.2.77.8252.040311050308090...   \n",
       "4  1.2.643.5.1.13.13.12.2.77.8252.040808121002100...   \n",
       "\n",
       "                                           study_uid  \n",
       "0  1.2.643.5.1.13.13.12.2.77.8252.011013141012091...  \n",
       "1  1.2.643.5.1.13.13.12.2.77.8252.011013141012091...  \n",
       "2  1.2.643.5.1.13.13.12.2.77.8252.011013141012091...  \n",
       "3  1.2.643.5.1.13.13.12.2.77.8252.011013141012091...  \n",
       "4  1.2.643.5.1.13.13.12.2.77.8252.011013141012091...  "
      ]
     },
     "execution_count": 36,
     "metadata": {},
     "output_type": "execute_result"
    }
   ],
   "source": [
    "result"
   ]
  },
  {
   "cell_type": "code",
   "execution_count": 33,
   "id": "5b3aa727",
   "metadata": {},
   "outputs": [],
   "source": [
    "labels = pd.read_excel('labels.xlsx')"
   ]
  },
  {
   "cell_type": "code",
   "execution_count": 34,
   "id": "82eed421",
   "metadata": {},
   "outputs": [
    {
     "data": {
      "text/html": [
       "<div>\n",
       "<style scoped>\n",
       "    .dataframe tbody tr th:only-of-type {\n",
       "        vertical-align: middle;\n",
       "    }\n",
       "\n",
       "    .dataframe tbody tr th {\n",
       "        vertical-align: top;\n",
       "    }\n",
       "\n",
       "    .dataframe thead th {\n",
       "        text-align: right;\n",
       "    }\n",
       "</style>\n",
       "<table border=\"1\" class=\"dataframe\">\n",
       "  <thead>\n",
       "    <tr style=\"text-align: right;\">\n",
       "      <th></th>\n",
       "      <th>study_uid</th>\n",
       "      <th>sclerosis</th>\n",
       "    </tr>\n",
       "  </thead>\n",
       "  <tbody>\n",
       "    <tr>\n",
       "      <th>0</th>\n",
       "      <td>1.2.643.5.1.13.13.12.2.77.8252.011411090410101...</td>\n",
       "      <td>0</td>\n",
       "    </tr>\n",
       "    <tr>\n",
       "      <th>1</th>\n",
       "      <td>1.2.643.5.1.13.13.12.2.77.8252.131500041112120...</td>\n",
       "      <td>1</td>\n",
       "    </tr>\n",
       "    <tr>\n",
       "      <th>2</th>\n",
       "      <td>1.2.643.5.1.13.13.12.2.77.8252.010305060009140...</td>\n",
       "      <td>0</td>\n",
       "    </tr>\n",
       "    <tr>\n",
       "      <th>3</th>\n",
       "      <td>1.2.643.5.1.13.13.12.2.77.8252.071406031309010...</td>\n",
       "      <td>1</td>\n",
       "    </tr>\n",
       "    <tr>\n",
       "      <th>4</th>\n",
       "      <td>1.2.643.5.1.13.13.12.2.77.8252.121511041410151...</td>\n",
       "      <td>0</td>\n",
       "    </tr>\n",
       "    <tr>\n",
       "      <th>...</th>\n",
       "      <td>...</td>\n",
       "      <td>...</td>\n",
       "    </tr>\n",
       "    <tr>\n",
       "      <th>167</th>\n",
       "      <td>1.2.643.5.1.13.13.12.2.77.8252.111211060701140...</td>\n",
       "      <td>1</td>\n",
       "    </tr>\n",
       "    <tr>\n",
       "      <th>168</th>\n",
       "      <td>1.2.643.5.1.13.13.12.2.77.8252.100815141103051...</td>\n",
       "      <td>0</td>\n",
       "    </tr>\n",
       "    <tr>\n",
       "      <th>169</th>\n",
       "      <td>1.2.643.5.1.13.13.12.2.77.8252.060804010900090...</td>\n",
       "      <td>1</td>\n",
       "    </tr>\n",
       "    <tr>\n",
       "      <th>170</th>\n",
       "      <td>1.2.643.5.1.13.13.12.2.77.8252.030410101303070...</td>\n",
       "      <td>0</td>\n",
       "    </tr>\n",
       "    <tr>\n",
       "      <th>171</th>\n",
       "      <td>1.2.643.5.1.13.13.12.2.77.8252.040811010609121...</td>\n",
       "      <td>1</td>\n",
       "    </tr>\n",
       "  </tbody>\n",
       "</table>\n",
       "<p>172 rows × 2 columns</p>\n",
       "</div>"
      ],
      "text/plain": [
       "                                             study_uid  sclerosis\n",
       "0    1.2.643.5.1.13.13.12.2.77.8252.011411090410101...          0\n",
       "1    1.2.643.5.1.13.13.12.2.77.8252.131500041112120...          1\n",
       "2    1.2.643.5.1.13.13.12.2.77.8252.010305060009140...          0\n",
       "3    1.2.643.5.1.13.13.12.2.77.8252.071406031309010...          1\n",
       "4    1.2.643.5.1.13.13.12.2.77.8252.121511041410151...          0\n",
       "..                                                 ...        ...\n",
       "167  1.2.643.5.1.13.13.12.2.77.8252.111211060701140...          1\n",
       "168  1.2.643.5.1.13.13.12.2.77.8252.100815141103051...          0\n",
       "169  1.2.643.5.1.13.13.12.2.77.8252.060804010900090...          1\n",
       "170  1.2.643.5.1.13.13.12.2.77.8252.030410101303070...          0\n",
       "171  1.2.643.5.1.13.13.12.2.77.8252.040811010609121...          1\n",
       "\n",
       "[172 rows x 2 columns]"
      ]
     },
     "execution_count": 34,
     "metadata": {},
     "output_type": "execute_result"
    }
   ],
   "source": [
    "labels"
   ]
  },
  {
   "cell_type": "code",
   "execution_count": 40,
   "id": "0ee77a2a",
   "metadata": {},
   "outputs": [],
   "source": [
    "merged = pd.merge(result, labels, on='study_uid', how='left')"
   ]
  },
  {
   "cell_type": "code",
   "execution_count": 47,
   "id": "10c5a2c9",
   "metadata": {},
   "outputs": [
    {
     "data": {
      "text/plain": [
       "1    956\n",
       "0    869\n",
       "Name: sclerosis, dtype: int64"
      ]
     },
     "execution_count": 47,
     "metadata": {},
     "output_type": "execute_result"
    }
   ],
   "source": [
    "merged['sclerosis'].value_counts()"
   ]
  },
  {
   "cell_type": "code",
   "execution_count": 51,
   "id": "c9f2f4ce",
   "metadata": {},
   "outputs": [],
   "source": [
    "merged.drop('study_uid',inplace=True, axis=1)"
   ]
  },
  {
   "cell_type": "code",
   "execution_count": 54,
   "id": "10d7d48a",
   "metadata": {},
   "outputs": [],
   "source": [
    "merged.to_csv('dataset.csv', index=False)"
   ]
  },
  {
   "cell_type": "code",
   "execution_count": null,
   "id": "f1f27484",
   "metadata": {},
   "outputs": [],
   "source": []
  }
 ],
 "metadata": {
  "kernelspec": {
   "display_name": "Python 3 (ipykernel)",
   "language": "python",
   "name": "python3"
  },
  "language_info": {
   "codemirror_mode": {
    "name": "ipython",
    "version": 3
   },
   "file_extension": ".py",
   "mimetype": "text/x-python",
   "name": "python",
   "nbconvert_exporter": "python",
   "pygments_lexer": "ipython3",
   "version": "3.10.9"
  }
 },
 "nbformat": 4,
 "nbformat_minor": 5
}
